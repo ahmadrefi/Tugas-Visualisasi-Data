{
 "cells": [
  {
   "cell_type": "code",
   "execution_count": null,
   "metadata": {},
   "outputs": [],
   "source": [
    "from wordcloud import WordCloud, ImageColorGenerator\n",
    "import matplotlib.pyplot as plt #to display our wordcloud\n",
    "from PIL import Image #to load our image\n",
    "import numpy as np #to get the color of our image\n",
    "from Sastrawi.StopWordRemover.StopWordRemoverFactory import StopWordRemoverFactory\n",
    "from Sastrawi.Stemmer.StemmerFactory import StemmerFactory\n",
    "\n",
    "#Create stopwordRemover\n",
    "factory = StopWordRemoverFactory()\n",
    "stopwords = factory.get_stop_words()\n",
    "\n",
    "# create stemmer\n",
    "factory2 = StemmerFactory()\n",
    "stemmer = factory2.create_stemmer()\n",
    "\n",
    "\n",
    "#sumber data https://www.youtube.com/watch?v=XBI_0UWf9jc\n",
    "text = open('dataset.txt', 'r').read()\n",
    "text = stemmer.stem(text)\n",
    "stopwords = set(stopwords)\n",
    "stopwords.update([\"yg\", \"lu\", \"gua\",\"bro\",\"cuma\",\"buat\",\"kalo\",\"gak\",\"lah\",\n",
    "                  \"jadi\",\"aja\",\"sama\",\"emang\",\"nya\",\"gk\",\"lihat\",\"mau\",\"lebih\",\n",
    "                  \"tau\",\"mana\",\"gue\",\"soal\",\"brooo\",\"bagai\",\"mau\",\"apa\",\n",
    "                 \"bukan\",\"udah\",\"gitu\",\"aku\",\"lo\",\"elu\",\"loe\",\"iya\"])"
   ]
  },
  {
   "cell_type": "code",
   "execution_count": null,
   "metadata": {},
   "outputs": [],
   "source": [
    "#Appearance-related\n",
    "custom_mask = np.array(Image.open('cloud.png')) \n",
    "wc = WordCloud(background_color = 'white',\n",
    "               stopwords = stopwords,\n",
    "               mask = custom_mask,\n",
    "               contour_width = 3,\n",
    "               contour_color = 'black')"
   ]
  },
  {
   "cell_type": "code",
   "execution_count": null,
   "metadata": {},
   "outputs": [],
   "source": [
    "wc.generate(text)\n",
    "image_colors = ImageColorGenerator(custom_mask)\n",
    "wc.recolor(color_func = image_colors)"
   ]
  },
  {
   "cell_type": "code",
   "execution_count": null,
   "metadata": {},
   "outputs": [],
   "source": [
    "#Plotting\n",
    "plt.figure(figsize=[15,15])\n",
    "plt.imshow(wc, interpolation = 'bilinear')\n",
    "plt.axis('off')\n",
    "plt.show()\n",
    "\n",
    "#wc.to_file('hasil.png')"
   ]
  }
 ],
 "metadata": {
  "kernelspec": {
   "display_name": "Python 3",
   "language": "python",
   "name": "python3"
  },
  "language_info": {
   "codemirror_mode": {
    "name": "ipython",
    "version": 3
   },
   "file_extension": ".py",
   "mimetype": "text/x-python",
   "name": "python",
   "nbconvert_exporter": "python",
   "pygments_lexer": "ipython3",
   "version": "3.7.6"
  }
 },
 "nbformat": 4,
 "nbformat_minor": 4
}
